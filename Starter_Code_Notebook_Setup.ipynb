{
 "cells": [
  {
   "cell_type": "markdown",
   "metadata": {},
   "source": [
    "Starter code to map to correct directories"
   ]
  },
  {
   "cell_type": "code",
   "execution_count": null,
   "metadata": {},
   "outputs": [],
   "source": [
    "## Install CBM3_python\n",
    "##pip install git+https://github.com/cat-cfs/cbm3_python\n",
    "\n",
    "## Paths to where packages/scripts are stored\n",
    "#D:\\Users\\GISUSER6\\AppData\\Roaming\\Python\\Python38\\Scripts\n",
    "#D:\\users\\gisuser6\\anaconda3\\lib\\site-packages"
   ]
  },
  {
   "cell_type": "code",
   "execution_count": 10,
   "metadata": {},
   "outputs": [
    {
     "name": "stdout",
     "output_type": "stream",
     "text": [
      "Requirement already satisfied: sqlalchemy in d:\\users\\gisuser6\\anaconda3\\lib\\site-packages (1.3.18)\n"
     ]
    }
   ],
   "source": [
    "## Packages needed for CBM\n",
    "\n",
    "#! pip install pyodbc\n",
    "#! pip install pywin32\n",
    "#! pip install pandas\n",
    "#! pip install numpy\n",
    "#! pip install xlrd\n",
    "#! pip install matplotlib\n",
    "#! pip install gitpython\n",
    "#! pip install sqlalchemy\n",
    "#! pip install sqlalchemy-access"
   ]
  },
  {
   "cell_type": "code",
   "execution_count": null,
   "metadata": {},
   "outputs": [],
   "source": [
    "## Import packges\n",
    "import pandas as pd\n",
    "import sys, os, json, subprocess\n",
    "import numpy as np\n",
    "import matplotlib.pyplot as plt\n",
    "%matplotlib inline"
   ]
  },
  {
   "cell_type": "code",
   "execution_count": null,
   "metadata": {},
   "outputs": [],
   "source": [
    "## Tool to help convert Woodstock/Remsoft data to cbm\n",
    "from woodstock_to_cbm import woodstock"
   ]
  },
  {
   "cell_type": "code",
   "execution_count": null,
   "metadata": {},
   "outputs": [],
   "source": [
    "## Write objects to csv files after they've been converted/formatted\n",
    "sit_inventory.to_csv('sit_inventory.csv', index=False)\n",
    "sit_yield.to_csv(\"sit_yield.csv\", index=False)\n",
    "sit_age_classes.to_csv(\"sit_age_classes.csv\", index=False)\n",
    "sit_disturbance_types.to_csv(\"sit_disturbance_types.csv\", index=False)\n",
    "sit_events.to_csv(\"sit_events.csv\", index=False)\n",
    "sit_transitions.to_csv(\"sit_transitions.csv\", index=False)\n",
    "sit_classifiers.to_csv(\"sit_classifiers.csv\", index=False)"
   ]
  },
  {
   "cell_type": "markdown",
   "metadata": {},
   "source": [
    "The following imports are used to load:\n",
    " 1. The standard import tool plugin, which acts as an interface between python and your installed copy of the Operational-Scale CBM-CFS3 toolbox\n",
    " 2. The cbm3_python package, which helps with automation of CBM3 simulation, CBM3 data management and and results analysis."
   ]
  },
  {
   "cell_type": "code",
   "execution_count": null,
   "metadata": {},
   "outputs": [],
   "source": [
    "import cbm3_python_helper\n",
    "cbm3_python_helper.load_cbm3_python()\n",
    "import cbm3_python.simulation.projectsimulator\n",
    "from cbm3_python.cbm3data import cbm3_results\n",
    "from cbm3_python.cbm3data import sit_helper\n",
    "standard_import_tool_plugin_path=sit_helper.load_standard_import_tool_plugin()"
   ]
  },
  {
   "cell_type": "markdown",
   "metadata": {},
   "source": [
    "The next lines build a configuration for importing a CBM3 project using python code. The paths to the project database, the results database and the initial project specification are set here."
   ]
  },
  {
   "cell_type": "code",
   "execution_count": null,
   "metadata": {},
   "outputs": [],
   "source": [
    "project_path=r\"\"\n",
    "results_db_path=r\"\"\n",
    "config_save_path=r\"\"\n",
    "import_project_path=r\"\""
   ]
  }
 ],
 "metadata": {
  "kernelspec": {
   "display_name": "Python 3",
   "language": "python",
   "name": "python3"
  },
  "language_info": {
   "codemirror_mode": {
    "name": "ipython",
    "version": 3
   },
   "file_extension": ".py",
   "mimetype": "text/x-python",
   "name": "python",
   "nbconvert_exporter": "python",
   "pygments_lexer": "ipython3",
   "version": "3.8.3"
  }
 },
 "nbformat": 4,
 "nbformat_minor": 4
}
