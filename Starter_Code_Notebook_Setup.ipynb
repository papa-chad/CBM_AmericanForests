{
 "cells": [
  {
   "cell_type": "markdown",
   "metadata": {},
   "source": [
    "Starter code to map to correct directories"
   ]
  },
  {
   "cell_type": "code",
   "execution_count": null,
   "metadata": {},
   "outputs": [],
   "source": [
    "## Install CBM3_python\n",
    "##pip install git+https://github.com/cat-cfs/cbm3_python\n",
    "\n",
    "## Paths to where packages/scripts are stored\n",
    "#D:\\Users\\GISUSER6\\AppData\\Roaming\\Python\\Python38\\Scripts\n",
    "#D:\\users\\gisuser6\\anaconda3\\lib\\site-packages"
   ]
  },
  {
   "cell_type": "code",
   "execution_count": 10,
   "metadata": {},
   "outputs": [
    {
     "name": "stdout",
     "output_type": "stream",
     "text": [
      "Requirement already satisfied: sqlalchemy in d:\\users\\gisuser6\\anaconda3\\lib\\site-packages (1.3.18)\n"
     ]
    }
   ],
   "source": [
    "## Packages needed for CBM\n",
    "\n",
    "#! pip install pyodbc\n",
    "#! pip install pywin32\n",
    "#! pip install pandas\n",
    "#! pip install numpy\n",
    "#! pip install xlrd\n",
    "#! pip install matplotlib\n",
    "#! pip install gitpython\n",
    "#! pip install sqlalchemy\n",
    "#! pip install sqlalchemy-access"
   ]
  },
  {
   "cell_type": "code",
   "execution_count": null,
   "metadata": {},
   "outputs": [],
   "source": []
  }
 ],
 "metadata": {
  "kernelspec": {
   "display_name": "Python 3",
   "language": "python",
   "name": "python3"
  },
  "language_info": {
   "codemirror_mode": {
    "name": "ipython",
    "version": 3
   },
   "file_extension": ".py",
   "mimetype": "text/x-python",
   "name": "python",
   "nbconvert_exporter": "python",
   "pygments_lexer": "ipython3",
   "version": "3.8.3"
  }
 },
 "nbformat": 4,
 "nbformat_minor": 4
}
